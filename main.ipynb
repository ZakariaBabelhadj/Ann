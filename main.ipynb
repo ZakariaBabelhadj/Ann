{
 "cells": [
  {
   "cell_type": "code",
   "execution_count": 1,
   "metadata": {},
   "outputs": [],
   "source": [
    "import matplotlib.pyplot as plt\n",
    "import numpy as np\n",
    "import pandas as pd"
   ]
  },
  {
   "cell_type": "code",
   "execution_count": 80,
   "metadata": {},
   "outputs": [],
   "source": [
    "class ann:\n",
    "    def __init__(self):\n",
    "            self.output=[]\n",
    "            self.wieght1=np.array([-34.4,-2.52])\n",
    "            self.biases1=np.array([2.14,1.29])\n",
    "            self.wieght2=np.array([-1.3,2.28])\n",
    "            self.biases2=0\n",
    "    def train(self,x,label,iteration,LR):\n",
    "        self.learningRate=LR\n",
    "        self.loss=[]\n",
    "        self.label=label\n",
    "        self.z3=[]\n",
    "        self.learningRate=0.1\n",
    "        for j in range(iteration):\n",
    "            self.output.clear()\n",
    "            for i in x:\n",
    "                self.output.append(self.layer(i))\n",
    "            self.loss.append(sum((label-self.output)**2))\n",
    "            self.loss_derivative()\n",
    "    def sigmoid(self,x):\n",
    "            return 1/(1+np.exp(-x))   \n",
    "    def sigmoid_derivative(self,x):\n",
    "        x=np.array(x)\n",
    "        t=np.array(self.sigmoid(x))\n",
    "        return t*(1-t)\n",
    "    def test(self,wieght,biases,x):\n",
    "            s=self.wieght1*x+self.biases1   \n",
    "            return self.sigmoid(s)\n",
    "    def layer(self,x):\n",
    "        self.z3.clear()\n",
    "        y1=self.test(self.wieght1,self.biases1,x)\n",
    "        self.z3.append(sum(y1*self.wieght2)+self.biases2)\n",
    "        return self.sigmoid(sum(y1*self.wieght2)+self.biases2)\n",
    "    def loss_derivative(self):\n",
    "        #t=self.s\n",
    "        Dc=-2*(np.array(self.label)-self.output)\n",
    "        Dc=Dc*self.sigmoid_derivative(self.z3)\n",
    "        self.biases2-=self.learningRate*sum(Dc)/len(Dc)\n",
    "            "
   ]
  },
  {
   "cell_type": "code",
   "execution_count": 81,
   "metadata": {},
   "outputs": [],
   "source": [
    "data=pd.read_csv('C:/Users/wakcomputer/OneDrive/Desktop/td3_data.txt',names=['x','y'])"
   ]
  },
  {
   "cell_type": "code",
   "execution_count": 83,
   "metadata": {},
   "outputs": [],
   "source": [
    "c2=ann()\n",
    "c2.biases2=0\n",
    "c2.train(data['x'],data['y'],500,0.1)"
   ]
  },
  {
   "cell_type": "code",
   "execution_count": 84,
   "metadata": {},
   "outputs": [
    {
     "data": {
      "text/plain": [
       "-0.5784189185112842"
      ]
     },
     "execution_count": 84,
     "metadata": {},
     "output_type": "execute_result"
    }
   ],
   "source": [
    "c2.biases2"
   ]
  },
  {
   "cell_type": "code",
   "execution_count": 85,
   "metadata": {},
   "outputs": [
    {
     "data": {
      "text/plain": [
       "[<matplotlib.lines.Line2D at 0x17e56f96a08>]"
      ]
     },
     "execution_count": 85,
     "metadata": {},
     "output_type": "execute_result"
    },
    {
     "data": {
      "image/png": "[encoded data removed]",
      "text/plain": [
       "<Figure size 432x288 with 1 Axes>"
      ]
     },
     "metadata": {
      "needs_background": "light"
     },
     "output_type": "display_data"
    }
   ],
   "source": [
    "plt.plot(data['x'],c2.output)\n",
    "plt.plot(data['x'],data['y'])"
   ]
  },
  {
   "cell_type": "code",
   "execution_count": 66,
   "metadata": {},
   "outputs": [
    {
     "data": {
      "text/plain": [
       "(400,)"
      ]
     },
     "execution_count": 66,
     "metadata": {},
     "output_type": "execute_result"
    }
   ],
   "source": [
    "pl"
   ]
  },
  {
   "cell_type": "code",
   "execution_count": 67,
   "metadata": {},
   "outputs": [
    {
     "data": {
      "text/plain": [
       "(400,)"
      ]
     },
     "execution_count": 67,
     "metadata": {},
     "output_type": "execute_result"
    }
   ],
   "source": [
    "np.array(c2.output).shape"
   ]
  },
  {
   "cell_type": "code",
   "execution_count": null,
   "metadata": {},
   "outputs": [],
   "source": []
  },
  {
   "cell_type": "code",
   "execution_count": null,
   "metadata": {},
   "outputs": [],
   "source": []
  }
 ],
 "metadata": {
  "kernelspec": {
   "display_name": "Python 3",
   "language": "python",
   "name": "python3"
  },
  "language_info": {
   "codemirror_mode": {
    "name": "ipython",
    "version": 3
   },
   "file_extension": ".py",
   "mimetype": "text/x-python",
   "name": "python",
   "nbconvert_exporter": "python",
   "pygments_lexer": "ipython3",
   "version": "3.8.5"
  }
 },
 "nbformat": 4,
 "nbformat_minor": 5
}
